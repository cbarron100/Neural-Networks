{
  "nbformat": 4,
  "nbformat_minor": 0,
  "metadata": {
    "colab": {
      "provenance": [],
      "gpuType": "T4",
      "authorship_tag": "ABX9TyPVoofOrUbSnqj8qKdzYVRd",
      "include_colab_link": true
    },
    "kernelspec": {
      "name": "python3",
      "display_name": "Python 3"
    },
    "language_info": {
      "name": "python"
    },
    "accelerator": "GPU"
  },
  "cells": [
    {
      "cell_type": "markdown",
      "metadata": {
        "id": "view-in-github",
        "colab_type": "text"
      },
      "source": [
        "<a href=\"https://colab.research.google.com/github/cbarron100/Neural-Networks/blob/main/RegressionWithKeras.ipynb\" target=\"_parent\"><img src=\"https://colab.research.google.com/assets/colab-badge.svg\" alt=\"Open In Colab\"/></a>"
      ]
    },
    {
      "cell_type": "markdown",
      "source": [
        "Import all the necessay packages, this was given to me"
      ],
      "metadata": {
        "id": "ZetaP3YO9dfM"
      }
    },
    {
      "cell_type": "code",
      "execution_count": 31,
      "metadata": {
        "id": "z-8FF4tt1iBY"
      },
      "outputs": [],
      "source": [
        "import pandas as pd\n",
        "import numpy as np\n",
        "import matplotlib.pyplot as plt\n",
        "\n",
        "from scipy.stats import randint as sp_randint\n",
        "\n",
        "import tensorflow as tf\n",
        "from tensorflow\timport keras\n",
        "from keras.models import Sequential\n",
        "from keras.callbacks import EarlyStopping\n",
        "from keras import layers\n",
        "from keras.optimizers import Adam\n",
        "from keras.callbacks import EarlyStopping\n",
        "\n",
        "\n",
        "from sklearn.model_selection import train_test_split\n",
        "from sklearn.preprocessing import StandardScaler\n",
        "from sklearn.preprocessing import Normalizer\n",
        "from sklearn.metrics import r2_score, mean_absolute_error, make_scorer\n",
        "from sklearn.dummy import DummyRegressor\n",
        "from sklearn.model_selection import RandomizedSearchCV"
      ]
    },
    {
      "cell_type": "markdown",
      "source": [
        "Sorting out data. First import it and take a quick look at the data. Describe, info, and value counts was used. 'Serial No' seemed weird and probably will not aid in the regression problem. There were now object columns and all seemed good so let move on. Last step was making feature and label Dataframes\n"
      ],
      "metadata": {
        "id": "z3V_Kpfk9j5K"
      }
    },
    {
      "cell_type": "code",
      "source": [
        "df = pd.read_csv('/admissions_data.csv')\n",
        "#print(df.info())\n",
        "#print(df.describe())\n",
        "\n",
        "df = df.drop(['Serial No.'], axis = 1)\n",
        "feature_col = df.columns[:-1]\n",
        "label = df.columns[-1:]\n",
        "#print(feature_col)\n",
        "#print(label)\n",
        "\n",
        "X = df[feature_col]\n",
        "y = df[label]"
      ],
      "metadata": {
        "id": "ksMwA5q91jBe"
      },
      "execution_count": 4,
      "outputs": []
    },
    {
      "cell_type": "markdown",
      "source": [
        "Train, Test split. We have also scaled the X values using a Normaliser. I did not want to use StandardScaler because I wanted all the value to be over 0 but maybe that was a bad choice can change later."
      ],
      "metadata": {
        "id": "11hDcvWo-E72"
      }
    },
    {
      "cell_type": "code",
      "source": [
        "X_train, X_test, y_train, y_test = train_test_split(X, y, random_state = 42, test_size = 0.2)\n",
        "scaler = Normalizer()\n",
        "X_train_scaled = pd.DataFrame(scaler.fit_transform(X_train))\n",
        "X_test_scaled = pd.DataFrame(scaler.fit_transform(X_test))\n",
        "\n",
        "#print(X_triain.scaled.describe())"
      ],
      "metadata": {
        "id": "Qokr-5KN-Dix"
      },
      "execution_count": 5,
      "outputs": []
    },
    {
      "cell_type": "markdown",
      "source": [
        "Time to make the neural network. Started with ReLU as activation and went from 7 to 64 to 8 to 1 (in the begining).\n",
        "\n",
        "We need to initialise a optimzer, we will start with Adam.\n",
        "\n",
        "After some initial testing we have a pretty good idea oh the number of epochs are good (40) and the learning rate roughtly 0.0001.\n",
        "\n",
        "Now we can add an EarlyStopping object to prevent overfitting\n",
        "\n"
      ],
      "metadata": {
        "id": "phUDV7slADE5"
      }
    },
    {
      "cell_type": "code",
      "source": [
        "def model_design(training, learning):\n",
        "  model = Sequential() #initialise the model\n",
        "  input = layers.InputLayer(input_shape = (training.shape[1]))\n",
        "  #input layer has the same number of inputs as the feature amount\n",
        "  model.add(input) ## place the input layer on the model\n",
        "  model.add(layers.Dense(64, activation = 'relu'))\n",
        "  model.add(layers.Dense(8, activation = 'relu')) ##sigmoid might be better\n",
        "  model.add(layers.Dense(1)) ## output layer\n",
        "\n",
        "\n",
        "  optim = Adam(learning_rate = learning) # 0.1 to start\n",
        "  model.compile(loss = 'mse', metrics = ['mae'], optimizer = optim)\n",
        "  return model\n"
      ],
      "metadata": {
        "id": "85KLqUtyAGUL"
      },
      "execution_count": 6,
      "outputs": []
    },
    {
      "cell_type": "markdown",
      "source": [
        "Now we can train the model\n"
      ],
      "metadata": {
        "id": "OjVslTBQCDWG"
      }
    },
    {
      "cell_type": "code",
      "source": [
        "#my_model.fit(X_train_scaled, y_train, epochs = 100, batch_size = 1, verbose = 1)\n",
        "#res_mse, res_mae = my_model.evaluate(X_test_scaled, y_test, verbose = 0)\n",
        "#print('Result MSE: ', res_mse)\n",
        "#print('Result MAE: ', res_mae)"
      ],
      "metadata": {
        "id": "5Xg2iGwaCJRs"
      },
      "execution_count": 32,
      "outputs": []
    },
    {
      "cell_type": "markdown",
      "source": [
        "We have no trained a model with certain parameters and the resulting MSE = 0.02 with a MAE 0.115. Let's take a look at how the LR changes the learning patern of the model we will try 4 values  [1, 0.1, 0.01, 0.001]. We will look at the other hyperparameters after.\n",
        "\n",
        "First iteration of the learning with different Learning Rates showed we didn't need 100 epochs. So we lowered the number of epochs to 30\n",
        "\n",
        "This caused for unusual result so increased the Epochs back to 100, and changed the learning rates to [1E-2, 1E-4, 1E-7]\n",
        "\n",
        "\n",
        "After adding the stop we saw some new results and the learning rate grpahs changed. The epochs were too low for there to be reasonable results. So increased them again.\n",
        "\n",
        "EarlyStopping stoped the learning at [33, 41 , 34] for the learning rates, respectively.\n",
        "\n",
        "The lowest loss was with 1E-2 so will be going with that from now on.\n",
        "\n",
        "-----------------------------------------------------\n",
        "Experimenting with batch sizes now [2, 6, 10, 14]\n",
        "\n",
        "Early stopping stopped the learning at [19, 38, 29, 45], respectively.\n",
        "\n",
        "Since there was no large difference between the batch sizes I will be going with batch size 2 moving forward.\n",
        "\n"
      ],
      "metadata": {
        "id": "C_n7NztqFHb3"
      }
    },
    {
      "cell_type": "code",
      "source": [
        "lr_options = 1E-2\n",
        "num_epoch = 50\n",
        "batch_size = 2\n",
        "\n",
        "\n",
        "\n",
        "def fit_model(f_train, l_train, learning_rate, num_epochs, bs):\n",
        "    #build the model\n",
        "    my_model = model_design(f_train, learning_rate)\n",
        "    #train the model on the training data\n",
        "    stop = EarlyStopping(monitor='val_loss', mode = 'min', verbose = 1, patience  = 5) # patience will be set to 5 for number of epochs to continue after plateau\n",
        "    history = my_model.fit(f_train,\n",
        "                           l_train,\n",
        "                           epochs = num_epochs,\n",
        "                           batch_size = bs,\n",
        "                           verbose = 0,\n",
        "                           validation_split = 0.2,\n",
        "                           callbacks = [stop])\n",
        "    # plot learning curves\n",
        "    plt.plot(history.history['loss'], label='train')\n",
        "    plt.plot(history.history['val_loss'], label='validation')\n",
        "    plt.title('Batch Size=' + str(bs))\n",
        "    plt.legend(loc=\"upper right\")\n",
        "\n",
        "for i in range(len(batch_size)):\n",
        "  plot_no = 420 + (i + 1)\n",
        "  plt.subplot(plot_no)\n",
        "  fit_model(X_train_scaled, y_train, lr_options, num_epoch, batch_size[i])\n",
        "plt.tight_layout()\n",
        "plt.show()\n"
      ],
      "metadata": {
        "colab": {
          "base_uri": "https://localhost:8080/",
          "height": 335
        },
        "id": "rxQyIO_MFVVp",
        "outputId": "daacf404-05ce-475c-bc2b-1a5895119752"
      },
      "execution_count": 11,
      "outputs": [
        {
          "output_type": "stream",
          "name": "stdout",
          "text": [
            "Epoch 19: early stopping\n",
            "Epoch 38: early stopping\n",
            "Epoch 29: early stopping\n",
            "Epoch 45: early stopping\n"
          ]
        },
        {
          "output_type": "display_data",
          "data": {
            "text/plain": [
              "<Figure size 640x480 with 4 Axes>"
            ],
            "image/png": "[encoded data removed]"
          },
          "metadata": {}
        }
      ]
    },
    {
      "cell_type": "markdown",
      "source": [
        "Now that we have all the values for a model let's create a new model with the new values.\n",
        "- batch size = 2\n",
        "- lr = 1E-2\n",
        "- epochs = 50\n",
        "\n",
        "We can also compare this to a DummyRegressor for a check"
      ],
      "metadata": {
        "id": "xW03NafiYaOZ"
      }
    },
    {
      "cell_type": "code",
      "source": [
        "dummy_reg = DummyRegressor(strategy='mean')\n",
        "dummy_reg.fit(X_train_scaled, y_train)\n",
        "dummy_pred = dummy_reg.predict(X_test_scaled)\n",
        "\n",
        "new_best_model = model_design(X_test_scaled, 1E-2)\n",
        "stop = EarlyStopping(monitor='val_loss', mode = 'min', verbose = 1, patience  = 5) # patience will be set to 5 for number of epochs to continue after plateau\n",
        "new_best_model.fit(X_train_scaled,\n",
        "                   y_train,\n",
        "                   epochs = 50,\n",
        "                   batch_size = 2,\n",
        "                   verbose = 0,\n",
        "                   validation_split = 0.2,\n",
        "                   callbacks = [stop])\n",
        "predictions = new_best_model.predict(X_test_scaled)\n",
        "\n",
        "MAE_basline  = mean_absolute_error(y_test, dummy_pred)\n",
        "MAE_my_model = mean_absolute_error(y_test, predictions)\n",
        "\n",
        "print('Baseline MAE:', MAE_basline)\n",
        "print('My model MAE:', MAE_my_model)"
      ],
      "metadata": {
        "colab": {
          "base_uri": "https://localhost:8080/"
        },
        "id": "x0deYKF1Ytrp",
        "outputId": "4ffb866e-b455-4f09-92ee-8840a365e792"
      },
      "execution_count": 15,
      "outputs": [
        {
          "output_type": "stream",
          "name": "stdout",
          "text": [
            "Epoch 22: early stopping\n",
            "4/4 [==============================] - 0s 2ms/step\n",
            "Baseline MAE: 0.116268\n",
            "My model MAE: 0.08660066645145417\n"
          ]
        }
      ]
    },
    {
      "cell_type": "markdown",
      "source": [
        "We have been able to improve the model from roughly 0.11 to 0.0866 MAE. That is a 21.3% improvement through manually changing the hyperparameters. We have even been able to beent he baseline regressor which is also at 0.11 MAE.\n",
        "\n",
        "Now lets try and imrove our model using a RandomSearchCV object."
      ],
      "metadata": {
        "id": "470semH7bcHe"
      }
    },
    {
      "cell_type": "code",
      "source": [
        "random_search_model = model_design(X_train_scaled, 1E-2)\n",
        "\n",
        "param_grid = {'batch_size': sp_randint(2, 16), 'nb_epoch': sp_randint(10, 50)}\n",
        "random_search = RandomizedSearchCV(estimator = random_search_model,\n",
        "                          param_distributions=param_grid,\n",
        "                          scoring = make_scorer(mean_absolute_error, greater_is_better=False),\n",
        "                          n_iter = 12\n",
        "                          )\n",
        "#needs to be wrapped in a KerasRegressor wrapper but I cannot find the module to import\n",
        "random_result = random_search.fit(X_train_scaled, y_train)\n",
        "random_search_prediction = random_search.predict(X_test_scaled)\n",
        "\n",
        "random_search_MAE = mean_absolute_error(y_test, random_search_prediction)\n",
        "\n",
        "print('Random Search Algorithim:', random_search_MAE)\n",
        "\n"
      ],
      "metadata": {
        "colab": {
          "base_uri": "https://localhost:8080/",
          "height": 391
        },
        "id": "oNf9xBU9cLfR",
        "outputId": "821dd93a-8c4e-47f0-fc6c-c2e4f8d66615"
      },
      "execution_count": 25,
      "outputs": [
        {
          "output_type": "error",
          "ename": "TypeError",
          "evalue": "Cannot clone object '<keras.src.engine.sequential.Sequential object at 0x7b29d6da3f10>' (type <class 'keras.src.engine.sequential.Sequential'>): it does not seem to be a scikit-learn estimator as it does not implement a 'get_params' method.",
          "traceback": [
            "\u001b[0;31m---------------------------------------------------------------------------\u001b[0m",
            "\u001b[0;31mTypeError\u001b[0m                                 Traceback (most recent call last)",
            "\u001b[0;32m<ipython-input-25-166911c85034>\u001b[0m in \u001b[0;36m<cell line: 10>\u001b[0;34m()\u001b[0m\n\u001b[1;32m      8\u001b[0m                           )\n\u001b[1;32m      9\u001b[0m \u001b[0;34m\u001b[0m\u001b[0m\n\u001b[0;32m---> 10\u001b[0;31m \u001b[0mrandom_result\u001b[0m \u001b[0;34m=\u001b[0m \u001b[0mrandom_search\u001b[0m\u001b[0;34m.\u001b[0m\u001b[0mfit\u001b[0m\u001b[0;34m(\u001b[0m\u001b[0mX_train_scaled\u001b[0m\u001b[0;34m,\u001b[0m \u001b[0my_train\u001b[0m\u001b[0;34m)\u001b[0m\u001b[0;34m\u001b[0m\u001b[0;34m\u001b[0m\u001b[0m\n\u001b[0m\u001b[1;32m     11\u001b[0m \u001b[0mrandom_search_prediction\u001b[0m \u001b[0;34m=\u001b[0m \u001b[0mrandom_search\u001b[0m\u001b[0;34m.\u001b[0m\u001b[0mpredict\u001b[0m\u001b[0;34m(\u001b[0m\u001b[0mX_test_scaled\u001b[0m\u001b[0;34m)\u001b[0m\u001b[0;34m\u001b[0m\u001b[0;34m\u001b[0m\u001b[0m\n\u001b[1;32m     12\u001b[0m \u001b[0;34m\u001b[0m\u001b[0m\n",
            "\u001b[0;32m/usr/local/lib/python3.10/dist-packages/sklearn/model_selection/_search.py\u001b[0m in \u001b[0;36mfit\u001b[0;34m(self, X, y, groups, **fit_params)\u001b[0m\n\u001b[1;32m    786\u001b[0m         \u001b[0mn_splits\u001b[0m \u001b[0;34m=\u001b[0m \u001b[0mcv_orig\u001b[0m\u001b[0;34m.\u001b[0m\u001b[0mget_n_splits\u001b[0m\u001b[0;34m(\u001b[0m\u001b[0mX\u001b[0m\u001b[0;34m,\u001b[0m \u001b[0my\u001b[0m\u001b[0;34m,\u001b[0m \u001b[0mgroups\u001b[0m\u001b[0;34m)\u001b[0m\u001b[0;34m\u001b[0m\u001b[0;34m\u001b[0m\u001b[0m\n\u001b[1;32m    787\u001b[0m \u001b[0;34m\u001b[0m\u001b[0m\n\u001b[0;32m--> 788\u001b[0;31m         \u001b[0mbase_estimator\u001b[0m \u001b[0;34m=\u001b[0m \u001b[0mclone\u001b[0m\u001b[0;34m(\u001b[0m\u001b[0mself\u001b[0m\u001b[0;34m.\u001b[0m\u001b[0mestimator\u001b[0m\u001b[0;34m)\u001b[0m\u001b[0;34m\u001b[0m\u001b[0;34m\u001b[0m\u001b[0m\n\u001b[0m\u001b[1;32m    789\u001b[0m \u001b[0;34m\u001b[0m\u001b[0m\n\u001b[1;32m    790\u001b[0m         \u001b[0mparallel\u001b[0m \u001b[0;34m=\u001b[0m \u001b[0mParallel\u001b[0m\u001b[0;34m(\u001b[0m\u001b[0mn_jobs\u001b[0m\u001b[0;34m=\u001b[0m\u001b[0mself\u001b[0m\u001b[0;34m.\u001b[0m\u001b[0mn_jobs\u001b[0m\u001b[0;34m,\u001b[0m \u001b[0mpre_dispatch\u001b[0m\u001b[0;34m=\u001b[0m\u001b[0mself\u001b[0m\u001b[0;34m.\u001b[0m\u001b[0mpre_dispatch\u001b[0m\u001b[0;34m)\u001b[0m\u001b[0;34m\u001b[0m\u001b[0;34m\u001b[0m\u001b[0m\n",
            "\u001b[0;32m/usr/local/lib/python3.10/dist-packages/sklearn/base.py\u001b[0m in \u001b[0;36mclone\u001b[0;34m(estimator, safe)\u001b[0m\n\u001b[1;32m     77\u001b[0m                 )\n\u001b[1;32m     78\u001b[0m             \u001b[0;32melse\u001b[0m\u001b[0;34m:\u001b[0m\u001b[0;34m\u001b[0m\u001b[0;34m\u001b[0m\u001b[0m\n\u001b[0;32m---> 79\u001b[0;31m                 raise TypeError(\n\u001b[0m\u001b[1;32m     80\u001b[0m                     \u001b[0;34m\"Cannot clone object '%s' (type %s): \"\u001b[0m\u001b[0;34m\u001b[0m\u001b[0;34m\u001b[0m\u001b[0m\n\u001b[1;32m     81\u001b[0m                     \u001b[0;34m\"it does not seem to be a scikit-learn \"\u001b[0m\u001b[0;34m\u001b[0m\u001b[0;34m\u001b[0m\u001b[0m\n",
            "\u001b[0;31mTypeError\u001b[0m: Cannot clone object '<keras.src.engine.sequential.Sequential object at 0x7b29d6da3f10>' (type <class 'keras.src.engine.sequential.Sequential'>): it does not seem to be a scikit-learn estimator as it does not implement a 'get_params' method."
          ]
        }
      ]
    }
  ]
}